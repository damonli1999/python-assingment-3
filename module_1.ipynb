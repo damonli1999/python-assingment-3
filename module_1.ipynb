{
 "cells": [
  {
   "cell_type": "code",
   "execution_count": null,
   "metadata": {},
   "outputs": [],
   "source": [
    "# area of house \n",
    "width = float(input(\"Enter the width of the house: \"))\n",
    "length = float(input(\"Enter the length of the house: \"))\n",
    "\n",
    "area = length * width\n",
    "\n",
    "(width + length) *2 \n",
    "\n",
    "print(\"Area of the house is: \" + str(area))\n",
    "\n",
    "# circumfernce of circle\n",
    "from math import pi\n",
    "r = float(input (\"Input the radius of the circle: \"))\n",
    "\n",
    "print(\"The area of the circle with radius \" + str(r) + \"is: \" + str(pi*r**2))\n"
   ]
  }
 ],
 "metadata": {
  "kernelspec": {
   "display_name": "Python 3 (ipykernel)",
   "language": "python",
   "name": "python3"
  },
  "language_info": {
   "codemirror_mode": {
    "name": "ipython",
    "version": 3
   },
   "file_extension": ".py",
   "mimetype": "text/x-python",
   "name": "python",
   "nbconvert_exporter": "python",
   "pygments_lexer": "ipython3",
   "version": "3.10.6"
  },
  "vscode": {
   "interpreter": {
    "hash": "7e1998ff7f8aa20ada591c520b972326324e5ea05489af9e422744c7c09f6dad"
   }
  }
 },
 "nbformat": 4,
 "nbformat_minor": 2
}
